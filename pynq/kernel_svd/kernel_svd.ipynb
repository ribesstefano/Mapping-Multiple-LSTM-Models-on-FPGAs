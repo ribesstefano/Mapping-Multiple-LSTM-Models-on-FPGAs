{
 "cells": [
  {
   "cell_type": "markdown",
   "metadata": {},
   "source": [
    "# Testing DenseSvd\n",
    "\n",
    "This notebook will test an IP written in Vivado HLS."
   ]
  },
  {
   "cell_type": "code",
   "execution_count": 1,
   "metadata": {},
   "outputs": [
    {
     "data": {
      "application/javascript": [
       "\n",
       "try {\n",
       "require(['notebook/js/codecell'], function(codecell) {\n",
       "  codecell.CodeCell.options_default.highlight_modes[\n",
       "      'magic_text/x-csrc'] = {'reg':[/^%%microblaze/]};\n",
       "  Jupyter.notebook.events.one('kernel_ready.Kernel', function(){\n",
       "      Jupyter.notebook.get_cells().map(function(cell){\n",
       "          if (cell.cell_type == 'code'){ cell.auto_highlight(); } }) ;\n",
       "  });\n",
       "});\n",
       "} catch (e) {};\n"
      ]
     },
     "metadata": {},
     "output_type": "display_data"
    },
    {
     "data": {
      "application/javascript": [
       "\n",
       "try {\n",
       "require(['notebook/js/codecell'], function(codecell) {\n",
       "  codecell.CodeCell.options_default.highlight_modes[\n",
       "      'magic_text/x-csrc'] = {'reg':[/^%%pybind11/]};\n",
       "  Jupyter.notebook.events.one('kernel_ready.Kernel', function(){\n",
       "      Jupyter.notebook.get_cells().map(function(cell){\n",
       "          if (cell.cell_type == 'code'){ cell.auto_highlight(); } }) ;\n",
       "  });\n",
       "});\n",
       "} catch (e) {};\n"
      ]
     },
     "metadata": {},
     "output_type": "display_data"
    }
   ],
   "source": [
    "from pynq import Overlay\n",
    "import pynq.lib.dma\n",
    "from pynq import allocate\n",
    "import numpy as np\n",
    "from pynq import DefaultIP\n",
    "import timeit"
   ]
  },
  {
   "cell_type": "markdown",
   "metadata": {},
   "source": [
    "Program FPGA and inspect Overlay."
   ]
  },
  {
   "cell_type": "code",
   "execution_count": 3,
   "metadata": {},
   "outputs": [],
   "source": [
    "overlay = Overlay(\"overlay/kernel_svd.bit\")\n",
    "overlay?"
   ]
  },
  {
   "cell_type": "markdown",
   "metadata": {},
   "source": [
    "Get the kernel register map."
   ]
  },
  {
   "cell_type": "code",
   "execution_count": 4,
   "metadata": {},
   "outputs": [
    {
     "data": {
      "text/plain": [
       "RegisterMap {\n",
       "  CTRL = Register(AP_START=0, AP_DONE=0, AP_IDLE=1, AP_READY=0, RESERVED_1=0, AUTO_RESTART=0, RESERVED_2=0, RESERVED_3=0, RESERVED_4=0),\n",
       "  GIER = Register(Enable=0, RESERVED=0),\n",
       "  IP_IER = Register(CHAN0_INT_EN=0, CHAN1_INT_EN=0, RESERVED=0),\n",
       "  IP_ISR = Register(CHAN0_INT_ST=0, CHAN1_INT_ST=0, RESERVED=0),\n",
       "  num_active_inputs = Register(num_active_inputs=0),\n",
       "  input_size = Register(input_size=0),\n",
       "  output_size = Register(output_size=0),\n",
       "  num_refinements_0 = Register(num_refinements_0=0),\n",
       "  num_refinements_1 = Register(num_refinements_1=0)\n",
       "}"
      ]
     },
     "execution_count": 4,
     "metadata": {},
     "output_type": "execute_result"
    }
   ],
   "source": [
    "kernel = overlay.HlsSvdKernel_0\n",
    "kernel.register_map\n",
    "# print(\"stream size: \", adder.stream_size)\n",
    "# accel_state = adder.get_state()\n",
    "# print(\"accelerator state: \", accel_state)\n",
    "# dma = overlay.axi_dma_0\n",
    "# dma.register_map.MM2S_DMASR\n",
    "# dma.register_map.S2MM_DMACR"
   ]
  },
  {
   "cell_type": "markdown",
   "metadata": {},
   "source": [
    "## Kernel IP"
   ]
  },
  {
   "cell_type": "markdown",
   "metadata": {},
   "source": [
    "The kernel IP can be automatically bound by first creating our Kernel class. Then, the overlay can be instantiated again."
   ]
  },
  {
   "cell_type": "code",
   "execution_count": 32,
   "metadata": {},
   "outputs": [],
   "source": [
    "class KernelDriver(DefaultIP):\n",
    "    def __init__(self, description):\n",
    "        super().__init__(description=description)\n",
    "        self.max_G = 4\n",
    "        self.max_I = 1\n",
    "        self.max_H = 1\n",
    "    \n",
    "    bindto = ['xilinx.com:hls:HlsSvdKernel:1.0']\n",
    "\n",
    "    def start_accel(self):\n",
    "        self.register_map.CTRL.AP_START = 1\n",
    "        self.write(0x0, 1)\n",
    "        self.write(0x0, 1)\n",
    "        while(self.read(0x0) % 2 == 0):\n",
    "            self.write(0x0, 1)\n",
    "            pass # Wait until start, i.e. bit 0, is set.\n",
    "\n",
    "    def set_state(self, state):\n",
    "        # self.register_map.CTRL = state\n",
    "        # return self.register_map.CTRL\n",
    "        self.write(0x0, state)\n",
    "        return self.read(0x0)\n",
    "\n",
    "    def get_state(self):\n",
    "        return self.register_map.CTRL\n",
    "        # return self.read(0x0)\n",
    "\n",
    "    @property\n",
    "    def num_active_inputs(self):\n",
    "        return self.register_map.num_active_inputs\n",
    "\n",
    "    @num_active_inputs.setter\n",
    "    def num_active_inputs(self, N):\n",
    "        self.register_map.num_active_inputs = N\n",
    "\n",
    "    @property\n",
    "    def input_size(self):\n",
    "        return self.register_map.input_size\n",
    "\n",
    "    @input_size.setter\n",
    "    def input_size(self, I):\n",
    "        self.register_map.input_size = I\n",
    "\n",
    "    @property\n",
    "    def output_size(self):\n",
    "        return self.register_map.output_size\n",
    "\n",
    "    @output_size.setter\n",
    "    def output_size(self, H):\n",
    "        self.register_map.output_size = H\n",
    "\n",
    "    @property\n",
    "    def num_refinements(self):\n",
    "        return (self.register_map.num_refinements_0, self.register_map.num_refinements_1)\n",
    "\n",
    "    @num_refinements.setter\n",
    "    def num_refinements(self, R):\n",
    "        self.register_map.num_refinements_0 = R[0]\n",
    "        self.register_map.num_refinements_1 = R[1]\n",
    "\n",
    "overlay = Overlay(\"overlay/kernel_svd.bit\")"
   ]
  },
  {
   "cell_type": "markdown",
   "metadata": {},
   "source": [
    "To show the class is working, we setup the `num_refinements` using the setter method. We then read its corresponding register."
   ]
  },
  {
   "cell_type": "code",
   "execution_count": 33,
   "metadata": {},
   "outputs": [
    {
     "data": {
      "text/plain": [
       "(Register(num_refinements_0=1), Register(num_refinements_1=1))"
      ]
     },
     "execution_count": 33,
     "metadata": {},
     "output_type": "execute_result"
    }
   ],
   "source": [
    "kernel_svd.num_refinements = (1, 1)\n",
    "kernel_svd.num_refinements"
   ]
  },
  {
   "cell_type": "markdown",
   "metadata": {},
   "source": [
    "## Data Allocation and Run\n",
    "\n",
    "The data structures must be contiguosly allocated."
   ]
  },
  {
   "cell_type": "code",
   "execution_count": 34,
   "metadata": {},
   "outputs": [
    {
     "name": "stdout",
     "output_type": "stream",
     "text": [
      "Buffers setup completed.\n",
      "x_buffer.shape: (2, 8) - Bytes: 32\n",
      "u_buffer.shape: (4, 8, 4) - Bytes: 256\n"
     ]
    }
   ],
   "source": [
    "data_t = np.int16\n",
    "G = kernel_svd.max_G\n",
    "N = 2\n",
    "I = 8\n",
    "H = 8\n",
    "R = 4\n",
    "x_buffer = pynq.allocate(shape=(N, I), dtype=data_t)\n",
    "u_buffer = pynq.allocate(shape=(R, I, G), dtype=data_t)\n",
    "s_buffer = pynq.allocate(shape=(R, N, G), dtype=data_t)\n",
    "v_buffer = pynq.allocate(shape=(R, H, G), dtype=data_t)\n",
    "y_buffer = pynq.allocate(shape=(N, G, H), dtype=data_t)\n",
    "\n",
    "# Generate random arrays\n",
    "x_np = np.random.rand(N, I).astype(dtype=data_t)\n",
    "u_np = np.random.rand(R, I, G).astype(dtype=data_t)\n",
    "s_np = np.random.rand(R, N, G).astype(dtype=data_t)\n",
    "v_np = np.random.rand(R, H, G).astype(dtype=data_t)\n",
    "y_np = np.zeros((N, G, H)).astype(dtype=data_t)\n",
    "\n",
    "np.copyto(x_buffer, x_np, casting='no')\n",
    "np.copyto(u_buffer, u_np, casting='no')\n",
    "np.copyto(s_buffer, s_np, casting='no')\n",
    "np.copyto(v_buffer, v_np, casting='no')\n",
    "np.copyto(y_buffer, y_np, casting='no')\n",
    "\n",
    "print('Buffers setup completed.')\n",
    "print(f'x_buffer.shape: {x_buffer.shape} - Bytes: {x_buffer.nbytes}')\n",
    "print(f'u_buffer.shape: {u_buffer.shape} - Bytes: {u_buffer.nbytes}')"
   ]
  },
  {
   "cell_type": "markdown",
   "metadata": {},
   "source": [
    "Setup the kernel and then send the data through the DMAs."
   ]
  },
  {
   "cell_type": "code",
   "execution_count": 35,
   "metadata": {},
   "outputs": [
    {
     "name": "stdout",
     "output_type": "stream",
     "text": [
      "0x4\n",
      "0x1\n"
     ]
    },
    {
     "data": {
      "text/plain": [
       "RegisterMap {\n",
       "  CTRL = Register(AP_START=1, AP_DONE=0, AP_IDLE=0, AP_READY=0, RESERVED_1=0, AUTO_RESTART=0, RESERVED_2=0, RESERVED_3=0, RESERVED_4=0),\n",
       "  GIER = Register(Enable=0, RESERVED=0),\n",
       "  IP_IER = Register(CHAN0_INT_EN=0, CHAN1_INT_EN=0, RESERVED=0),\n",
       "  IP_ISR = Register(CHAN0_INT_ST=0, CHAN1_INT_ST=0, RESERVED=0),\n",
       "  num_active_inputs = Register(num_active_inputs=2),\n",
       "  input_size = Register(input_size=8),\n",
       "  output_size = Register(output_size=8),\n",
       "  num_refinements_0 = Register(num_refinements_0=4),\n",
       "  num_refinements_1 = Register(num_refinements_1=4)\n",
       "}"
      ]
     },
     "execution_count": 35,
     "metadata": {},
     "output_type": "execute_result"
    }
   ],
   "source": [
    "kernel_svd.num_active_inputs = N\n",
    "kernel_svd.input_size = I\n",
    "kernel_svd.output_size = H\n",
    "kernel_svd.num_refinements = (R, R)\n",
    "print(kernel_svd.get_state())\n",
    "kernel_svd.start_accel()\n",
    "print(kernel_svd.get_state())\n",
    "kernel_svd.register_map"
   ]
  },
  {
   "cell_type": "code",
   "execution_count": 36,
   "metadata": {},
   "outputs": [
    {
     "name": "stdout",
     "output_type": "stream",
     "text": [
      "Starting transfer:\n",
      "Waiting transfer completion.\n",
      "x_DMA done.\n",
      "u_DMA done.\n",
      "s_DMA done.\n",
      "v_DMA done.\n"
     ]
    },
    {
     "ename": "KeyboardInterrupt",
     "evalue": "",
     "output_type": "error",
     "traceback": [
      "\u001b[0;31m---------------------------------------------------------------------------\u001b[0m",
      "\u001b[0;31mKeyboardInterrupt\u001b[0m                         Traceback (most recent call last)",
      "\u001b[0;32m<ipython-input-36-6b7129d005a3>\u001b[0m in \u001b[0;36m<module>\u001b[0;34m()\u001b[0m\n\u001b[1;32m     16\u001b[0m \u001b[0moverlay\u001b[0m\u001b[0;34m.\u001b[0m\u001b[0mv_dma\u001b[0m\u001b[0;34m.\u001b[0m\u001b[0msendchannel\u001b[0m\u001b[0;34m.\u001b[0m\u001b[0mwait\u001b[0m\u001b[0;34m(\u001b[0m\u001b[0;34m)\u001b[0m\u001b[0;34m\u001b[0m\u001b[0m\n\u001b[1;32m     17\u001b[0m \u001b[0mprint\u001b[0m\u001b[0;34m(\u001b[0m\u001b[0;34mf'v_DMA done.'\u001b[0m\u001b[0;34m)\u001b[0m\u001b[0;34m\u001b[0m\u001b[0m\n\u001b[0;32m---> 18\u001b[0;31m \u001b[0moverlay\u001b[0m\u001b[0;34m.\u001b[0m\u001b[0my_dma\u001b[0m\u001b[0;34m.\u001b[0m\u001b[0mrecvchannel\u001b[0m\u001b[0;34m.\u001b[0m\u001b[0mwait\u001b[0m\u001b[0;34m(\u001b[0m\u001b[0;34m)\u001b[0m\u001b[0;34m\u001b[0m\u001b[0m\n\u001b[0m\u001b[1;32m     19\u001b[0m \u001b[0mprint\u001b[0m\u001b[0;34m(\u001b[0m\u001b[0;34mf'y_DMA done.'\u001b[0m\u001b[0;34m)\u001b[0m\u001b[0;34m\u001b[0m\u001b[0m\n\u001b[1;32m     20\u001b[0m \u001b[0mprint\u001b[0m\u001b[0;34m(\u001b[0m\u001b[0;34m'Done.\\n'\u001b[0m\u001b[0;34m)\u001b[0m\u001b[0;34m\u001b[0m\u001b[0m\n",
      "\u001b[0;32m/usr/local/lib/python3.6/dist-packages/pynq/lib/dma.py\u001b[0m in \u001b[0;36mwait\u001b[0;34m(self)\u001b[0m\n\u001b[1;32m    206\u001b[0m         \u001b[0;32mwhile\u001b[0m \u001b[0;32mTrue\u001b[0m\u001b[0;34m:\u001b[0m\u001b[0;34m\u001b[0m\u001b[0m\n\u001b[1;32m    207\u001b[0m             \u001b[0merror\u001b[0m \u001b[0;34m=\u001b[0m \u001b[0mself\u001b[0m\u001b[0;34m.\u001b[0m\u001b[0m_mmio\u001b[0m\u001b[0;34m.\u001b[0m\u001b[0mread\u001b[0m\u001b[0;34m(\u001b[0m\u001b[0mself\u001b[0m\u001b[0;34m.\u001b[0m\u001b[0m_offset\u001b[0m \u001b[0;34m+\u001b[0m \u001b[0;36m4\u001b[0m\u001b[0;34m)\u001b[0m\u001b[0;34m\u001b[0m\u001b[0m\n\u001b[0;32m--> 208\u001b[0;31m             \u001b[0;32mif\u001b[0m \u001b[0mself\u001b[0m\u001b[0;34m.\u001b[0m\u001b[0merror\u001b[0m\u001b[0;34m:\u001b[0m\u001b[0;34m\u001b[0m\u001b[0m\n\u001b[0m\u001b[1;32m    209\u001b[0m                 \u001b[0;32mif\u001b[0m \u001b[0merror\u001b[0m \u001b[0;34m&\u001b[0m \u001b[0;36m0x10\u001b[0m\u001b[0;34m:\u001b[0m\u001b[0;34m\u001b[0m\u001b[0m\n\u001b[1;32m    210\u001b[0m                     raise RuntimeError(\n",
      "\u001b[0;32m/usr/local/lib/python3.6/dist-packages/pynq/lib/dma.py\u001b[0m in \u001b[0;36merror\u001b[0;34m(self)\u001b[0m\n\u001b[1;32m    115\u001b[0m         \"\"\"True if DMA engine is in an error state\n\u001b[1;32m    116\u001b[0m         \"\"\"\n\u001b[0;32m--> 117\u001b[0;31m         \u001b[0;32mreturn\u001b[0m \u001b[0mself\u001b[0m\u001b[0;34m.\u001b[0m\u001b[0m_mmio\u001b[0m\u001b[0;34m.\u001b[0m\u001b[0mread\u001b[0m\u001b[0;34m(\u001b[0m\u001b[0mself\u001b[0m\u001b[0;34m.\u001b[0m\u001b[0m_offset\u001b[0m \u001b[0;34m+\u001b[0m \u001b[0;36m4\u001b[0m\u001b[0;34m)\u001b[0m \u001b[0;34m&\u001b[0m \u001b[0;36m0x70\u001b[0m \u001b[0;34m!=\u001b[0m \u001b[0;36m0x0\u001b[0m\u001b[0;34m\u001b[0m\u001b[0m\n\u001b[0m\u001b[1;32m    118\u001b[0m \u001b[0;34m\u001b[0m\u001b[0m\n\u001b[1;32m    119\u001b[0m     \u001b[0;32mdef\u001b[0m \u001b[0mstart\u001b[0m\u001b[0;34m(\u001b[0m\u001b[0mself\u001b[0m\u001b[0;34m)\u001b[0m\u001b[0;34m:\u001b[0m\u001b[0;34m\u001b[0m\u001b[0m\n",
      "\u001b[0;32m/usr/local/lib/python3.6/dist-packages/pynq/mmio.py\u001b[0m in \u001b[0;36mread\u001b[0;34m(self, offset, length, word_order)\u001b[0m\n\u001b[1;32m    108\u001b[0m             \u001b[0;32mraise\u001b[0m \u001b[0mValueError\u001b[0m\u001b[0;34m(\u001b[0m\u001b[0;34m\"Device does not have capabilities for MMIO\"\u001b[0m\u001b[0;34m)\u001b[0m\u001b[0;34m\u001b[0m\u001b[0m\n\u001b[1;32m    109\u001b[0m \u001b[0;34m\u001b[0m\u001b[0m\n\u001b[0;32m--> 110\u001b[0;31m     \u001b[0;32mdef\u001b[0m \u001b[0mread\u001b[0m\u001b[0;34m(\u001b[0m\u001b[0mself\u001b[0m\u001b[0;34m,\u001b[0m \u001b[0moffset\u001b[0m\u001b[0;34m=\u001b[0m\u001b[0;36m0\u001b[0m\u001b[0;34m,\u001b[0m \u001b[0mlength\u001b[0m\u001b[0;34m=\u001b[0m\u001b[0;36m4\u001b[0m\u001b[0;34m,\u001b[0m \u001b[0mword_order\u001b[0m\u001b[0;34m=\u001b[0m\u001b[0;34m'little'\u001b[0m\u001b[0;34m)\u001b[0m\u001b[0;34m:\u001b[0m\u001b[0;34m\u001b[0m\u001b[0m\n\u001b[0m\u001b[1;32m    111\u001b[0m         \"\"\"The method to read data from MMIO.\n\u001b[1;32m    112\u001b[0m \u001b[0;34m\u001b[0m\u001b[0m\n",
      "\u001b[0;31mKeyboardInterrupt\u001b[0m: "
     ]
    }
   ],
   "source": [
    "# Transfer\n",
    "print('Starting transfer:')\n",
    "overlay.x_dma.sendchannel.transfer(x_buffer)\n",
    "overlay.u_dma.sendchannel.transfer(u_buffer)\n",
    "overlay.s_dma.sendchannel.transfer(s_buffer)\n",
    "overlay.v_dma.sendchannel.transfer(v_buffer)\n",
    "overlay.y_dma.recvchannel.transfer(y_buffer)\n",
    "# Then wait\n",
    "print('Waiting transfer completion.')\n",
    "overlay.x_dma.sendchannel.wait()\n",
    "print(f'x_DMA done.')\n",
    "overlay.u_dma.sendchannel.wait()\n",
    "print(f'u_DMA done.')\n",
    "overlay.s_dma.sendchannel.wait()\n",
    "print(f's_DMA done.')\n",
    "overlay.v_dma.sendchannel.wait()\n",
    "print(f'v_DMA done.')\n",
    "overlay.y_dma.recvchannel.wait()\n",
    "print(f'y_DMA done.')\n",
    "print('Done.\\n')\n",
    "\n",
    "print(f'y_buffer.shape: {y_buffer.shape}')"
   ]
  },
  {
   "cell_type": "code",
   "execution_count": 11,
   "metadata": {},
   "outputs": [],
   "source": [
    "def run_kernel(R, x_buffer, u_buffer, xu_buffer):\n",
    "    kernel_u.num_refinements = R\n",
    "    kernel_u.start_accel()\n",
    "    # Transfer\n",
    "    overlay.x_dma.sendchannel.transfer(x_buffer)\n",
    "    overlay.u_dma.sendchannel.transfer(u_buffer)\n",
    "    overlay.xu_dma.recvchannel.transfer(xu_buffer)\n",
    "    # Then wait\n",
    "    overlay.x_dma.sendchannel.wait()\n",
    "    overlay.u_dma.sendchannel.wait()\n",
    "    overlay.xu_dma.recvchannel.wait()"
   ]
  },
  {
   "cell_type": "code",
   "execution_count": 12,
   "metadata": {},
   "outputs": [
    {
     "name": "stdout",
     "output_type": "stream",
     "text": [
      "10 loops, best of 3: 148 ms per loop\n"
     ]
    }
   ],
   "source": [
    "%timeit run_kernel(R, x_buffer, u_buffer, xu_buffer)"
   ]
  },
  {
   "cell_type": "markdown",
   "metadata": {},
   "source": [
    "## Checking Correctness\n",
    "\n",
    "We first find the proper reshape mechanisms:"
   ]
  },
  {
   "cell_type": "code",
   "execution_count": 15,
   "metadata": {},
   "outputs": [
    {
     "name": "stdout",
     "output_type": "stream",
     "text": [
      "[-1.25823639  1.03248304 -0.3389279  -0.26103506] [-1.25823639  1.03248304 -0.3389279  -0.26103506]\n",
      "0.0\n",
      "[ 0.38526848 -0.34712276 -0.39317614  0.77762274] [ 0.38526848 -0.34712276 -0.39317614  0.77762274]\n",
      "0.0\n",
      "(128, 4, 2)\n"
     ]
    }
   ],
   "source": [
    "# =============================================================================\n",
    "# Reshape: (R, I, G) => (R, I // Tu, G, Tu)\n",
    "# =============================================================================\n",
    "u = np.random.randn(R, I, G)\n",
    "u_tmp = u.copy()\n",
    "u_tmp = np.transpose(u_tmp.reshape(R, I // Tu, Tu, G), (0, 1, 3, 2))\n",
    "print(u[0, 0:4, 0], u_tmp[0, 0, 0, 0:4])\n",
    "print(u[0, 3, 0] - u_tmp[0, 0, 0, 3])\n",
    "\n",
    "# =============================================================================\n",
    "# Reshape: (R, I // Tu, G, Tu) => (I, G, R)\n",
    "# =============================================================================\n",
    "u = np.random.randn(R, I // Tu, G, Tu)\n",
    "u_tmp = u.copy()\n",
    "u_tmp = np.transpose(u_tmp, (1, 3, 2, 0)).reshape(I, G, R)\n",
    "print(u[0, 0, 0, 0:4], u_tmp[0:4, 0, 0])\n",
    "print(u[0, 0, 0, 3] - u_tmp[3, 0, 0])\n",
    "\n",
    "x = np.random.randn(N, I)\n",
    "u = np.random.randn(I, G, R)\n",
    "x = (x * 2).astype(np.int16)\n",
    "u = (u * 2).astype(np.int16)\n",
    "\n",
    "xu = np.transpose(np.tensordot(x, u, axes=1), (2, 1, 0))\n",
    "print(xu.shape)"
   ]
  },
  {
   "cell_type": "markdown",
   "metadata": {},
   "source": [
    "We now check the Numpy computation against the FPGA result."
   ]
  },
  {
   "cell_type": "code",
   "execution_count": 16,
   "metadata": {},
   "outputs": [
    {
     "name": "stdout",
     "output_type": "stream",
     "text": [
      "\n",
      "All equal: True\n",
      "gold[0]:  [[ -3634 -22667]\n",
      " [ 31065  15347]\n",
      " [ 22140  -9595]\n",
      " [  9106  26136]]\n",
      "fpga[0]:  [[ -3634 -22667]\n",
      " [ 31065  15347]\n",
      " [ 22140  -9595]\n",
      " [  9106  26136]]\n"
     ]
    }
   ],
   "source": [
    "u_tmp = np.transpose(u_buffer, (1, 3, 2, 0)).reshape(I, G, R)\n",
    "xu_gold = np.transpose(np.tensordot(x_buffer, u_tmp, axes=1), (2, 1, 0))\n",
    "print('\\nAll equal:', np.allclose(xu_buffer, xu_gold))\n",
    "print('gold[0]: ', xu_gold[0])\n",
    "print('fpga[0]: ', xu_buffer[0])"
   ]
  },
  {
   "cell_type": "code",
   "execution_count": null,
   "metadata": {},
   "outputs": [],
   "source": []
  }
 ],
 "metadata": {
  "kernelspec": {
   "display_name": "Python 3",
   "language": "python",
   "name": "python3"
  },
  "language_info": {
   "codemirror_mode": {
    "name": "ipython",
    "version": 3
   },
   "file_extension": ".py",
   "mimetype": "text/x-python",
   "name": "python",
   "nbconvert_exporter": "python",
   "pygments_lexer": "ipython3",
   "version": "3.6.5"
  }
 },
 "nbformat": 4,
 "nbformat_minor": 2
}
