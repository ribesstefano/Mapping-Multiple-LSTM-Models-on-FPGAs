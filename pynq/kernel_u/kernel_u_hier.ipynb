{
 "cells": [
  {
   "cell_type": "markdown",
   "metadata": {},
   "source": [
    "# Testing an IP that adds 1 to a stream\n",
    "\n",
    "This notebook will test an IP written in Vivado HLS. The IP adds +1 to a buffer. The HP ports **must** be configured at 64bit, not 32bit."
   ]
  },
  {
   "cell_type": "code",
   "execution_count": 8,
   "metadata": {},
   "outputs": [],
   "source": [
    "from pynq import Overlay\n",
    "import pynq.lib.dma\n",
    "from pynq import allocate\n",
    "import numpy as np\n",
    "from pynq import DefaultIP\n",
    "from pynq import DefaultHierarchy"
   ]
  },
  {
   "cell_type": "markdown",
   "metadata": {},
   "source": [
    "We need to define our own class **before** istantiating the overlay. In this way it will be automatically bound. We can use an accelerator driver as follows:"
   ]
  },
  {
   "cell_type": "code",
   "execution_count": 9,
   "metadata": {},
   "outputs": [],
   "source": [
    "class AdderDriver(DefaultIP):\n",
    "    def __init__(self, description):\n",
    "        super().__init__(description=description)\n",
    "    bindto = [\"xilinx.com:hls:hls_adder:1.0\"]\n",
    "\n",
    "    def start_accel(self):\n",
    "        self.write(0x0, 1)\n",
    "\n",
    "    def set_state(self, state):\n",
    "        self.write(0x0, state)\n",
    "        return self.read(0x0)\n",
    "\n",
    "    def get_state(self):\n",
    "        return self.read(0x0)\n",
    "\n",
    "    @property\n",
    "    def stream_size(self):\n",
    "        return self.read(0x10)\n",
    "\n",
    "    @stream_size.setter\n",
    "    def stream_size(self, size):\n",
    "        self.write(0x10, size)"
   ]
  },
  {
   "cell_type": "markdown",
   "metadata": {},
   "source": [
    "But it comes more handy to use an Hierarchy class as follows:"
   ]
  },
  {
   "cell_type": "code",
   "execution_count": 10,
   "metadata": {},
   "outputs": [],
   "source": [
    "class StreamAdderDriver(DefaultHierarchy):\n",
    "    def __init__(self, description):\n",
    "        super().__init__(description)\n",
    "\n",
    "    def stream_add(self, stream):\n",
    "        in_buffer = allocate(shape=(len(stream),), dtype=np.float32)\n",
    "        out_buffer = allocate(shape=(len(stream),), dtype=np.float32)\n",
    "        for i, elem in enumerate(stream):\n",
    "            in_buffer[i] = elem\n",
    "        # NOTE: for managing the HLS accelerator, we exploit\n",
    "        # the driver that we defined above.\n",
    "        self.hls_adder.stream_size = len(stream)\n",
    "        self.hls_adder.start_accel() # NOTE: The start must be sent before setting the other arguments \n",
    "        self.dma.sendchannel.transfer(in_buffer)\n",
    "        self.dma.recvchannel.transfer(out_buffer)\n",
    "        self.dma.sendchannel.wait()\n",
    "        self.dma.recvchannel.wait()\n",
    "        result = out_buffer.view(dtype=np.float32).copy()\n",
    "        del in_buffer, out_buffer\n",
    "        return result\n",
    "\n",
    "    @staticmethod\n",
    "    def checkhierarchy(description):\n",
    "        \"\"\"\n",
    "        An Hierarchy that meets these requirements will be\n",
    "        automatically registered to this driver.\n",
    "        \"\"\"\n",
    "        if \"dma\" in description[\"ip\"] and \"hls_adder\" in description[\"ip\"]:\n",
    "            return True\n",
    "        return False"
   ]
  },
  {
   "cell_type": "markdown",
   "metadata": {},
   "source": [
    "Finally, we can istantiate the overaly, so that the drivers above will be automatically registered."
   ]
  },
  {
   "cell_type": "code",
   "execution_count": 11,
   "metadata": {},
   "outputs": [],
   "source": [
    "overlay = Overlay(\"overlay/streamed_add_hier.bit\", download=False)\n",
    "# overlay.download()\n",
    "# overlay?"
   ]
  },
  {
   "cell_type": "markdown",
   "metadata": {},
   "source": [
    "### Width of Buffer Length Register\n",
    "This integer value specifies the number of valid bits used for the Control field buffer length and Status field bytes transferred in the Scatter/Gather descriptors. It also specifies the number of valid bits in the RX Length of the Status Stream App4 field when Use Rxlength is enabled. For Direct Register Mode, it specifies the number of valid bits in the MM2S_LENGTH and S2MM_LENGTH registers. The length width directly correlates to the number of bytes being specified in a Scatter/Gather descriptor or number of bytes being specified in App4.RxLength, MM2S_LENGTH, or S2MM_LENGTH. The number of bytes is equal to 2^Length Width. So a Length Width of 26 gives a byte count of 67,108,863 bytes. This value should be set to 23 for Multichannel mode."
   ]
  },
  {
   "cell_type": "code",
   "execution_count": 25,
   "metadata": {},
   "outputs": [
    {
     "name": "stdout",
     "output_type": "stream",
     "text": [
      "[  1.00000000e+00   4.14159298e+00   7.28318548e+00 ...,   3.20856616e+03\n",
      "   3.21170776e+03   3.21484937e+03]\n",
      "[ True  True  True ...,  True  True  True]\n",
      "3.469756501941687e-05\n"
     ]
    }
   ],
   "source": [
    "stream = [i * np.pi for i in range(1024)]\n",
    "# print(stream)\n",
    "out_stream = overlay.adder.stream_add(stream)\n",
    "print(out_stream)\n",
    "print(np.isclose(np.array(stream) + 1, out_stream))\n",
    "print(np.abs((np.array(stream) - (out_stream - 1))).mean())\n",
    "\n",
    "# # NOTE: The following is a neat way of printing the np.floats in HEX format. \n",
    "# for orig, f32, u32 in zip(np.array(stream, dtype=np.float32).view(dtype=np.uint32), out_stream, out_stream.view(dtype=np.uint32)):\n",
    "#     print(\"{:x}\\t{:03.3}\\t{:x}\".format(orig, f32, u32))"
   ]
  },
  {
   "cell_type": "markdown",
   "metadata": {},
   "source": []
  },
  {
   "cell_type": "code",
   "execution_count": null,
   "metadata": {},
   "outputs": [],
   "source": []
  }
 ],
 "metadata": {
  "kernelspec": {
   "display_name": "Python 3",
   "language": "python",
   "name": "python3"
  },
  "language_info": {
   "codemirror_mode": {
    "name": "ipython",
    "version": 3
   },
   "file_extension": ".py",
   "mimetype": "text/x-python",
   "name": "python",
   "nbconvert_exporter": "python",
   "pygments_lexer": "ipython3",
   "version": "3.6.5"
  }
 },
 "nbformat": 4,
 "nbformat_minor": 2
}
